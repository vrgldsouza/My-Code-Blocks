{
 "cells": [
  {
   "cell_type": "code",
   "execution_count": 2,
   "id": "0254b782-675e-4b8c-bc0c-f46be89d584c",
   "metadata": {},
   "outputs": [],
   "source": [
    "import requests\n",
    "from bs4 import BeautifulSoup #we use beatuiful soup to extract data\n",
    "import pandas as pd\n",
    "import urllib.request\n",
    "from pprint import pprint\n",
    "import numpy as np"
   ]
  },
  {
   "cell_type": "code",
   "execution_count": 55,
   "id": "152bfda2-d160-4b0b-b332-b9c91bc0afb2",
   "metadata": {},
   "outputs": [],
   "source": [
    "url1 = ['https://www.imdb.com/search/title/?title_type=feature&release_date=2010-01-01,2010-12-31','https://www.imdb.com/search/title/?title_type=feature&release_date=2011-01-01,2011-12-31','https://www.imdb.com/search/title/?title_type=feature&release_date=2012-01-01,2012-12-31','https://www.imdb.com/search/title/?title_type=feature&release_date=2013-01-01,2013-12-31',\n",
    "        'https://www.imdb.com/search/title/?title_type=feature&release_date=2014-01-01,2014-12-31','https://www.imdb.com/search/title/?title_type=feature&release_date=2015-01-01,2015-12-31','https://www.imdb.com/search/title/?title_type=feature&release_date=2016-01-01,2016-12-31','https://www.imdb.com/search/title/?title_type=feature&release_date=2017-01-01,2017-12-31'\n",
    "       ,'https://www.imdb.com/search/title/?title_type=feature&release_date=2018-01-01,2018-12-31','https://www.imdb.com/search/title/?title_type=feature&release_date=2019-01-01,2019-12-31'\n",
    "       ,'https://www.imdb.com/search/title/?title_type=feature&release_date=2020-01-01,2020-12-31','https://www.imdb.com/search/title/?title_type=feature&release_date=2021-01-01,2021-12-31'\n",
    "       ,'https://www.imdb.com/search/title/?title_type=feature&release_date=2022-01-01,2022-12-31','https://www.imdb.com/search/title/?title_type=feature&release_date=2023-01-01,2023-12-31']"
   ]
  },
  {
   "cell_type": "code",
   "execution_count": 56,
   "id": "1c050499-44c7-4369-b029-e0980d2b4d7c",
   "metadata": {},
   "outputs": [],
   "source": [
    "headers = {\n",
    "    'User-Agent':\n",
    "    'Mozilla/5.0 (Windows NT 10.0; Win64; x64) AppleWebKit/537.36 (KHTML, like Gecko) Chrome/123.0.0.0 Safari/537.36'\n",
    "}\n"
   ]
  },
  {
   "cell_type": "code",
   "execution_count": 57,
   "id": "f2a9b572-021b-46e3-ab15-187aee78bff6",
   "metadata": {},
   "outputs": [],
   "source": [
    "movies_data = []\n",
    "for page_url in url1:\n",
    "    response = requests.get(page_url,headers=headers)\n",
    "    soup = BeautifulSoup(response.text,'lxml')\n",
    "    for li in soup.find_all('li'):\n",
    "        for h3 in li.find_all('h3'):\n",
    "            title = h3.text[3:]  # extracted movie title, with H3 is part of Title text, we use that was our tether\n",
    "            # we are trying to extract IMDb rating\n",
    "            imdb_rating_span = li.find('span', class_='ipc-rating-star--base')\n",
    "            if imdb_rating_span:\n",
    "                imdb_rating = imdb_rating_span.text.strip().replace('\\xa0', ' Votes: ')\n",
    "            else:\n",
    "                imdb_rating = 'N/A'\n",
    "\n",
    "            # we extract Metascore rating, its present in span\n",
    "            metascore_span = li.find('span', class_='sc-b0901df4-0 bcQdDJ metacritic-score-box')\n",
    "            if metascore_span:\n",
    "                metascore_rating = metascore_span.text.strip()\n",
    "            else:\n",
    "                metascore_rating = 'N/A'\n",
    "\n",
    "            # Append data to the list\n",
    "            movies_data.append([title, imdb_rating, metascore_rating])"
   ]
  },
  {
   "cell_type": "code",
   "execution_count": 57,
   "id": "16a120b5-8648-4fd8-82c1-ccbe0fcb15c8",
   "metadata": {},
   "outputs": [],
   "source": [
    "# Convert the list to a pandas DataFrame\n",
    "movies_df = pd.DataFrame(movies_data, columns=['Title', 'IMDb Rating', 'Metascore Rating'])\n",
    "\n",
    "# Transfer to CSV file\n",
    "movies_df.to_csv('C:/Users/vrgld/Downloads/20232024 Winter Semester COMP-603-001 Programming for Data Science - 182024 - 1250 PM/movie_scrap.csv',index = False)"
   ]
  },
  {
   "cell_type": "code",
   "execution_count": 58,
   "id": "6ec41fed-014b-40a5-adae-432df07527ce",
   "metadata": {},
   "outputs": [
    {
     "data": {
      "text/html": [
       "<div>\n",
       "<style scoped>\n",
       "    .dataframe tbody tr th:only-of-type {\n",
       "        vertical-align: middle;\n",
       "    }\n",
       "\n",
       "    .dataframe tbody tr th {\n",
       "        vertical-align: top;\n",
       "    }\n",
       "\n",
       "    .dataframe thead th {\n",
       "        text-align: right;\n",
       "    }\n",
       "</style>\n",
       "<table border=\"1\" class=\"dataframe\">\n",
       "  <thead>\n",
       "    <tr style=\"text-align: right;\">\n",
       "      <th></th>\n",
       "      <th>Title</th>\n",
       "      <th>IMDb Rating</th>\n",
       "      <th>Metascore Rating</th>\n",
       "    </tr>\n",
       "  </thead>\n",
       "  <tbody>\n",
       "    <tr>\n",
       "      <th>0</th>\n",
       "      <td>Inception</td>\n",
       "      <td>8.8 Votes: (2.5M)</td>\n",
       "      <td>74</td>\n",
       "    </tr>\n",
       "    <tr>\n",
       "      <th>1</th>\n",
       "      <td>Kick-Ass</td>\n",
       "      <td>7.6 Votes: (592K)</td>\n",
       "      <td>66</td>\n",
       "    </tr>\n",
       "    <tr>\n",
       "      <th>2</th>\n",
       "      <td>Unthinkable</td>\n",
       "      <td>7.0 Votes: (93K)</td>\n",
       "      <td>N/A</td>\n",
       "    </tr>\n",
       "    <tr>\n",
       "      <th>3</th>\n",
       "      <td>The Last Airbender</td>\n",
       "      <td>4.0 Votes: (174K)</td>\n",
       "      <td>20</td>\n",
       "    </tr>\n",
       "    <tr>\n",
       "      <th>4</th>\n",
       "      <td>Incendies</td>\n",
       "      <td>8.3 Votes: (199K)</td>\n",
       "      <td>80</td>\n",
       "    </tr>\n",
       "    <tr>\n",
       "      <th>...</th>\n",
       "      <td>...</td>\n",
       "      <td>...</td>\n",
       "      <td>...</td>\n",
       "    </tr>\n",
       "    <tr>\n",
       "      <th>695</th>\n",
       "      <td>You'll Never Find Me</td>\n",
       "      <td>5.9 Votes: (2.1K)</td>\n",
       "      <td>82</td>\n",
       "    </tr>\n",
       "    <tr>\n",
       "      <th>696</th>\n",
       "      <td>Boy Kills World</td>\n",
       "      <td>6.4 Votes: (416)</td>\n",
       "      <td>69</td>\n",
       "    </tr>\n",
       "    <tr>\n",
       "      <th>697</th>\n",
       "      <td>May December</td>\n",
       "      <td>6.9 Votes: (50K)</td>\n",
       "      <td>86</td>\n",
       "    </tr>\n",
       "    <tr>\n",
       "      <th>698</th>\n",
       "      <td>Taylor Swift: The Eras Tour</td>\n",
       "      <td>8.1 Votes: (20K)</td>\n",
       "      <td>83</td>\n",
       "    </tr>\n",
       "    <tr>\n",
       "      <th>699</th>\n",
       "      <td>The Marvels</td>\n",
       "      <td>5.5 Votes: (121K)</td>\n",
       "      <td>50</td>\n",
       "    </tr>\n",
       "  </tbody>\n",
       "</table>\n",
       "<p>700 rows × 3 columns</p>\n",
       "</div>"
      ],
      "text/plain": [
       "                            Title        IMDb Rating Metascore Rating\n",
       "0                       Inception  8.8 Votes: (2.5M)               74\n",
       "1                        Kick-Ass  7.6 Votes: (592K)               66\n",
       "2                     Unthinkable   7.0 Votes: (93K)              N/A\n",
       "3              The Last Airbender  4.0 Votes: (174K)               20\n",
       "4                       Incendies  8.3 Votes: (199K)               80\n",
       "..                            ...                ...              ...\n",
       "695          You'll Never Find Me  5.9 Votes: (2.1K)               82\n",
       "696               Boy Kills World   6.4 Votes: (416)               69\n",
       "697                  May December   6.9 Votes: (50K)               86\n",
       "698   Taylor Swift: The Eras Tour   8.1 Votes: (20K)               83\n",
       "699                   The Marvels  5.5 Votes: (121K)               50\n",
       "\n",
       "[700 rows x 3 columns]"
      ]
     },
     "execution_count": 58,
     "metadata": {},
     "output_type": "execute_result"
    }
   ],
   "source": [
    "movies_df"
   ]
  },
  {
   "cell_type": "code",
   "execution_count": 61,
   "id": "bdfa3be2-0380-4da2-89fd-1ed35ca05521",
   "metadata": {},
   "outputs": [
    {
     "data": {
      "image/png": "[encoded data removed]",
      "text/plain": [
       "<Figure size 640x480 with 1 Axes>"
      ]
     },
     "metadata": {},
     "output_type": "display_data"
    }
   ],
   "source": [
    "import matplotlib.pyplot as plt\n",
    "#Elimiate the N/A so as to not skew the histograms\n",
    "metascore=movies_df[\"Metascore Rating\"].replace(\"N/A\",np.nan).dropna().astype(float) \n",
    "plt.hist(metascore,bins=20,color='lightblue',edgecolor='black')\n",
    "plt.title(\"Histogram of metascore Ratings\")\n",
    "plt.xlabel(\"Metascore rates\")\n",
    "plt.ylabel(\"Frequency\")\n",
    "plt.show()"
   ]
  },
  {
   "cell_type": "code",
   "execution_count": 62,
   "id": "ea2459b4-93d7-4044-b2bc-c6be4e90fa8e",
   "metadata": {},
   "outputs": [
    {
     "data": {
      "image/png": "[encoded data removed]",
      "text/plain": [
       "<Figure size 640x480 with 1 Axes>"
      ]
     },
     "metadata": {},
     "output_type": "display_data"
    }
   ],
   "source": [
    "#Elimiate the N/A so as to not skew the histograms\n",
    "imdb_score=movies_df[\"IMDb Rating\"].str.slice(stop=3).replace(\"N/A\",np.nan).dropna().astype(float)\n",
    "plt.hist(imdb_score,bins=20,color='lightgreen',edgecolor='black')\n",
    "plt.title(\"Histogram of IMDB Ratings\")\n",
    "plt.xlabel(\"IMDB Rating\")\n",
    "plt.ylabel(\"Frequency\")\n",
    "plt.show()"
   ]
  }
 ],
 "metadata": {
  "kernelspec": {
   "display_name": "Python 3 (ipykernel)",
   "language": "python",
   "name": "python3"
  },
  "language_info": {
   "codemirror_mode": {
    "name": "ipython",
    "version": 3
   },
   "file_extension": ".py",
   "mimetype": "text/x-python",
   "name": "python",
   "nbconvert_exporter": "python",
   "pygments_lexer": "ipython3",
   "version": "3.12.1"
  }
 },
 "nbformat": 4,
 "nbformat_minor": 5
}
